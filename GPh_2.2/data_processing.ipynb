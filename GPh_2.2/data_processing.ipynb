{
 "cells": [
  {
   "cell_type": "code",
   "execution_count": 1,
   "metadata": {},
   "outputs": [],
   "source": [
    "import matplotlib.pyplot as plt\n",
    "import numpy as np\n",
    "import pandas as pd\n",
    "from scipy.optimize import curve_fit\n",
    "from scipy import optimize\n",
    "import matplotlib.ticker as ticker"
   ]
  },
  {
   "cell_type": "code",
   "execution_count": 170,
   "metadata": {},
   "outputs": [],
   "source": [
    "h = 6.62607015 * 10**(-34)"
   ]
  },
  {
   "cell_type": "code",
   "execution_count": 134,
   "metadata": {},
   "outputs": [
    {
     "data": {
      "text/html": [
       "<div>\n",
       "<style scoped>\n",
       "    .dataframe tbody tr th:only-of-type {\n",
       "        vertical-align: middle;\n",
       "    }\n",
       "\n",
       "    .dataframe tbody tr th {\n",
       "        vertical-align: top;\n",
       "    }\n",
       "\n",
       "    .dataframe thead th {\n",
       "        text-align: right;\n",
       "    }\n",
       "</style>\n",
       "<table border=\"1\" class=\"dataframe\">\n",
       "  <thead>\n",
       "    <tr style=\"text-align: right;\">\n",
       "      <th></th>\n",
       "      <th>lambda</th>\n",
       "      <th>angle</th>\n",
       "    </tr>\n",
       "  </thead>\n",
       "  <tbody>\n",
       "    <tr>\n",
       "      <th>0</th>\n",
       "      <td>5401</td>\n",
       "      <td>2250</td>\n",
       "    </tr>\n",
       "    <tr>\n",
       "      <th>1</th>\n",
       "      <td>5852</td>\n",
       "      <td>2512</td>\n",
       "    </tr>\n",
       "    <tr>\n",
       "      <th>2</th>\n",
       "      <td>5882</td>\n",
       "      <td>2578</td>\n",
       "    </tr>\n",
       "    <tr>\n",
       "      <th>3</th>\n",
       "      <td>5945</td>\n",
       "      <td>2558</td>\n",
       "    </tr>\n",
       "    <tr>\n",
       "      <th>4</th>\n",
       "      <td>5976</td>\n",
       "      <td>2574</td>\n",
       "    </tr>\n",
       "    <tr>\n",
       "      <th>5</th>\n",
       "      <td>6030</td>\n",
       "      <td>2598</td>\n",
       "    </tr>\n",
       "    <tr>\n",
       "      <th>6</th>\n",
       "      <td>6074</td>\n",
       "      <td>2628</td>\n",
       "    </tr>\n",
       "    <tr>\n",
       "      <th>7</th>\n",
       "      <td>6094</td>\n",
       "      <td>2638</td>\n",
       "    </tr>\n",
       "    <tr>\n",
       "      <th>8</th>\n",
       "      <td>6143</td>\n",
       "      <td>2646</td>\n",
       "    </tr>\n",
       "    <tr>\n",
       "      <th>9</th>\n",
       "      <td>6164</td>\n",
       "      <td>2656</td>\n",
       "    </tr>\n",
       "    <tr>\n",
       "      <th>10</th>\n",
       "      <td>6217</td>\n",
       "      <td>2678</td>\n",
       "    </tr>\n",
       "    <tr>\n",
       "      <th>11</th>\n",
       "      <td>6267</td>\n",
       "      <td>2698</td>\n",
       "    </tr>\n",
       "    <tr>\n",
       "      <th>12</th>\n",
       "      <td>6305</td>\n",
       "      <td>2714</td>\n",
       "    </tr>\n",
       "    <tr>\n",
       "      <th>13</th>\n",
       "      <td>6507</td>\n",
       "      <td>2790</td>\n",
       "    </tr>\n",
       "    <tr>\n",
       "      <th>14</th>\n",
       "      <td>4047</td>\n",
       "      <td>652</td>\n",
       "    </tr>\n",
       "    <tr>\n",
       "      <th>15</th>\n",
       "      <td>4358</td>\n",
       "      <td>1204</td>\n",
       "    </tr>\n",
       "    <tr>\n",
       "      <th>16</th>\n",
       "      <td>4916</td>\n",
       "      <td>1870</td>\n",
       "    </tr>\n",
       "    <tr>\n",
       "      <th>17</th>\n",
       "      <td>5461</td>\n",
       "      <td>2292</td>\n",
       "    </tr>\n",
       "    <tr>\n",
       "      <th>18</th>\n",
       "      <td>5770</td>\n",
       "      <td>2470</td>\n",
       "    </tr>\n",
       "    <tr>\n",
       "      <th>19</th>\n",
       "      <td>5791</td>\n",
       "      <td>2482</td>\n",
       "    </tr>\n",
       "    <tr>\n",
       "      <th>20</th>\n",
       "      <td>6234</td>\n",
       "      <td>2686</td>\n",
       "    </tr>\n",
       "    <tr>\n",
       "      <th>21</th>\n",
       "      <td>6907</td>\n",
       "      <td>2932</td>\n",
       "    </tr>\n",
       "  </tbody>\n",
       "</table>\n",
       "</div>"
      ],
      "text/plain": [
       "    lambda  angle\n",
       "0     5401   2250\n",
       "1     5852   2512\n",
       "2     5882   2578\n",
       "3     5945   2558\n",
       "4     5976   2574\n",
       "5     6030   2598\n",
       "6     6074   2628\n",
       "7     6094   2638\n",
       "8     6143   2646\n",
       "9     6164   2656\n",
       "10    6217   2678\n",
       "11    6267   2698\n",
       "12    6305   2714\n",
       "13    6507   2790\n",
       "14    4047    652\n",
       "15    4358   1204\n",
       "16    4916   1870\n",
       "17    5461   2292\n",
       "18    5770   2470\n",
       "19    5791   2482\n",
       "20    6234   2686\n",
       "21    6907   2932"
      ]
     },
     "execution_count": 134,
     "metadata": {},
     "output_type": "execute_result"
    }
   ],
   "source": [
    "data = pd.read_csv('Calibration.csv')\n",
    "data"
   ]
  },
  {
   "cell_type": "code",
   "execution_count": 137,
   "metadata": {},
   "outputs": [],
   "source": [
    "an = np.array(data.angle)\n",
    "lam = np.array(data['lambda'])\n",
    "an.sort()\n",
    "lam.sort()"
   ]
  },
  {
   "cell_type": "code",
   "execution_count": 139,
   "metadata": {},
   "outputs": [],
   "source": [
    "def rid(lam, m):\n",
    "    return 1/(lam * (1/4 - 1/((m+3)**2)))"
   ]
  },
  {
   "cell_type": "code",
   "execution_count": 140,
   "metadata": {},
   "outputs": [],
   "source": [
    "def se(a):\n",
    "    a = np.array(a)\n",
    "    return np.sqrt(((sum(abs(np.mean(a) - a))**2))/len(a))"
   ]
  },
  {
   "cell_type": "code",
   "execution_count": 141,
   "metadata": {},
   "outputs": [],
   "source": [
    "def se_rel(a):\n",
    "    return np.sqrt(((sum(abs(np.mean(a) - a))**2))/len(a))/np.mean(a)"
   ]
  },
  {
   "cell_type": "code",
   "execution_count": 154,
   "metadata": {},
   "outputs": [
    {
     "name": "stdout",
     "output_type": "stream",
     "text": [
      "a =  2.3357303129735997e-07\n",
      "b =  -0.0007557396292798773\n",
      "sigma_a =  2.3504157619325295e-08\n",
      "sigma_b =  0.00013107993778548388\n",
      "S_e =  19.378163188494415\n",
      "Relative S_r a = %  10.062873050357572\n",
      "Relative S_r b = %  17.344589684993256\n"
     ]
    },
    {
     "data": {
      "image/png": "[encoded data removed]",
      "text/plain": [
       "<Figure size 720x432 with 1 Axes>"
      ]
     },
     "metadata": {
      "needs_background": "light"
     },
     "output_type": "display_data"
    }
   ],
   "source": [
    "def approx(x, a, b,c,d):\n",
    "    return a * x**3 + b*x**2 + c*x**1 + d\n",
    "beta_opt1, beta_cov1 = curve_fit(approx, an, lam)\n",
    "a = beta_opt1[0]\n",
    "b = beta_opt1[1]\n",
    "c = beta_opt1[2]\n",
    "d = beta_opt1[3]\n",
    "\n",
    "\n",
    "\n",
    "print('a = ', a)\n",
    "print('b = ', b)\n",
    "\n",
    "\n",
    "#получим погрешности для коэффициентов\n",
    "sigma_a = np.sqrt(beta_cov1[0,0])\n",
    "sigma_b = np.sqrt(beta_cov1[1,1])\n",
    "\n",
    "\n",
    "print('sigma_a = ', sigma_a)\n",
    "print('sigma_b = ', sigma_b)\n",
    "\n",
    "\n",
    "residuals1 = lam - approx(an,*beta_opt1)\n",
    "fres1 = sum(residuals1**2)\n",
    "S_e = np.sqrt(fres1/len(an))\n",
    "print('S_e = ', S_e)\n",
    "\n",
    "\n",
    "print('Relative S_r a = % ', 100* sigma_a/abs(a))\n",
    "print('Relative S_r b = % ', 100* sigma_b/abs(b))\n",
    "\n",
    "\n",
    "# график\n",
    "fig, ax = plt.subplots(figsize=(10, 6))\n",
    "dots = np.arange(350, 3000, 0.1)\n",
    "ax.plot(dots, approx(dots, *beta_opt1), 'coral', lw = 2)\n",
    "ax.scatter(an, lam, c = 'r')\n",
    "lgnd = ax.legend([r'$\\lambda(a)$ = %.4f $\\cdot\\;a^{3}$ + %.4f $\\cdot \\; a^{2}$ + %.4f $\\cdot \\; a$ + %.4f '%(a,b,c,d), 'Data'], loc='upper left', shadow=True)\n",
    "\n",
    "ax.set_title(r'Scaling $\\lambda(angle)$')\n",
    "ax.set_ylabel(r'$\\lambda, \\;\\; \\mathring{A}$')\n",
    "ax.set_xlabel(r'Angle of spectrometer, $^{\\circ}$')\n",
    "\n",
    "ax.grid(which='major',\n",
    "color = 'k')\n",
    "\n",
    "ax.minorticks_on()\n",
    "\n",
    "ax.grid(which='minor',\n",
    "color = 'gray',\n",
    "linestyle = ':', linewidth = 0.5)\n",
    "\n",
    "ax.grid(which='major', linewidth = 0.5)\n",
    "plt.errorbar(an, lam, fmt = 'ro', markersize = '5', yerr = S_e, capsize = 2, elinewidth = 2, capthick = 1, ecolor = 'violet')\n",
    "\n",
    "\n",
    "plt.xlim (550, 3000)\n",
    "plt.ylim (4000, 7000)\n",
    "plt.savefig('Scale.png', dpi=400, quality=100)\n",
    "plt.show()"
   ]
  },
  {
   "cell_type": "code",
   "execution_count": 157,
   "metadata": {},
   "outputs": [
    {
     "name": "stdout",
     "output_type": "stream",
     "text": [
      "4099.9\n",
      "4365.8\n",
      "4837.0\n",
      "6545.5\n"
     ]
    },
    {
     "data": {
      "text/plain": [
       "[6545.472327440167, 4836.975929500812, 4365.817955521755, 4099.926911041302]"
      ]
     },
     "execution_count": 157,
     "metadata": {},
     "output_type": "execute_result"
    }
   ],
   "source": [
    "an_H = [740, 1174, 1814, 2810]\n",
    "lam_H = []\n",
    "for i in range(4):\n",
    "    print('%.1f' %(approx(an_H[i], *beta_opt1)))\n",
    "    lam_H.append(approx(an_H[i], *beta_opt1))\n",
    "lam_H.reverse()\n",
    "lam_H"
   ]
  },
  {
   "cell_type": "code",
   "execution_count": 160,
   "metadata": {},
   "outputs": [
    {
     "name": "stdout",
     "output_type": "stream",
     "text": [
      "109999.7\n",
      "110261.7\n",
      "109072.5\n",
      "109758.1\n"
     ]
    },
    {
     "data": {
      "text/plain": [
       "[109999.70116466461,\n",
       " 110261.72987145187,\n",
       " 109072.45355665937,\n",
       " 109758.05417119221]"
      ]
     },
     "execution_count": 160,
     "metadata": {},
     "output_type": "execute_result"
    }
   ],
   "source": [
    "r = []\n",
    "for i in range(4):\n",
    "    print('%.1f' %(rid(lam_H[i]/10**8, i)))\n",
    "    r.append(rid(lam_H[i]/10**8, i))\n",
    "r"
   ]
  },
  {
   "cell_type": "code",
   "execution_count": 163,
   "metadata": {},
   "outputs": [
    {
     "data": {
      "text/plain": [
       "0.0065176478178711784"
      ]
     },
     "execution_count": 163,
     "metadata": {},
     "output_type": "execute_result"
    }
   ],
   "source": [
    "se_rel(r)"
   ]
  },
  {
   "cell_type": "code",
   "execution_count": 161,
   "metadata": {},
   "outputs": [
    {
     "data": {
      "text/plain": [
       "109772.98469099202"
      ]
     },
     "execution_count": 161,
     "metadata": {},
     "output_type": "execute_result"
    }
   ],
   "source": [
    "np.mean(r)"
   ]
  },
  {
   "cell_type": "code",
   "execution_count": 168,
   "metadata": {},
   "outputs": [
    {
     "name": "stdout",
     "output_type": "stream",
     "text": [
      "6627.3\n",
      "6444.9\n",
      "5068.1\n"
     ]
    }
   ],
   "source": [
    "n = [2840, 2772, 2026]\n",
    "lam_I = []\n",
    "for i in range(3):\n",
    "    print('%.1f' %(approx(n[i], *beta_opt1)))\n",
    "    lam_I.append(approx(n[i], *beta_opt1))"
   ]
  },
  {
   "cell_type": "code",
   "execution_count": 180,
   "metadata": {},
   "outputs": [
    {
     "data": {
      "text/plain": [
       "array([4.52670786e+14, 4.65483431e+14, 5.91940445e+14])"
      ]
     },
     "execution_count": 180,
     "metadata": {},
     "output_type": "execute_result"
    }
   ],
   "source": [
    "nu = 3*10**(18)/np.array(lam_I)\n",
    "nu"
   ]
  },
  {
   "cell_type": "code",
   "execution_count": 190,
   "metadata": {},
   "outputs": [
    {
     "data": {
      "text/plain": [
       "0.01061218511427069"
      ]
     },
     "execution_count": 190,
     "metadata": {},
     "output_type": "execute_result"
    }
   ],
   "source": [
    "en2 = h * (nu[1]-nu[0])/(5*1.6*10**(-19))\n",
    "en2"
   ]
  },
  {
   "cell_type": "code",
   "execution_count": 184,
   "metadata": {},
   "outputs": [
    {
     "data": {
      "text/plain": [
       "2.4513993208916"
      ]
     },
     "execution_count": 184,
     "metadata": {},
     "output_type": "execute_result"
    }
   ],
   "source": [
    "en_edge = h*nu[2]/(1.6*10**(-19))\n",
    "en_edge"
   ]
  },
  {
   "cell_type": "code",
   "execution_count": 186,
   "metadata": {},
   "outputs": [
    {
     "data": {
      "text/plain": [
       "1.8746427399937011"
      ]
     },
     "execution_count": 186,
     "metadata": {},
     "output_type": "execute_result"
    }
   ],
   "source": [
    "en15 = h*nu[0]/(1.6*10**(-19))\n",
    "en15"
   ]
  },
  {
   "cell_type": "code",
   "execution_count": 189,
   "metadata": {},
   "outputs": [
    {
     "data": {
      "text/plain": [
       "1.9277036655650546"
      ]
     },
     "execution_count": 189,
     "metadata": {},
     "output_type": "execute_result"
    }
   ],
   "source": [
    "en10 = h*nu[1]/(1.6*10**(-19))\n",
    "en10 "
   ]
  },
  {
   "cell_type": "code",
   "execution_count": 191,
   "metadata": {},
   "outputs": [
    {
     "data": {
      "text/plain": [
       "1.9547036655650545"
      ]
     },
     "execution_count": 191,
     "metadata": {},
     "output_type": "execute_result"
    }
   ],
   "source": [
    "en1 = 0.027\n",
    "en_el = en10 + en1\n",
    "en_el"
   ]
  },
  {
   "cell_type": "code",
   "execution_count": 194,
   "metadata": {},
   "outputs": [
    {
     "data": {
      "text/plain": [
       "1.5113993208916"
      ]
     },
     "execution_count": 194,
     "metadata": {},
     "output_type": "execute_result"
    }
   ],
   "source": [
    "D1 = en_edge - 0.94\n",
    "D1"
   ]
  },
  {
   "cell_type": "code",
   "execution_count": 195,
   "metadata": {},
   "outputs": [
    {
     "data": {
      "text/plain": [
       "0.49669565532654536"
      ]
     },
     "execution_count": 195,
     "metadata": {},
     "output_type": "execute_result"
    }
   ],
   "source": [
    "D2 = en_edge - en_el\n",
    "D2"
   ]
  },
  {
   "cell_type": "code",
   "execution_count": null,
   "metadata": {},
   "outputs": [],
   "source": []
  }
 ],
 "metadata": {
  "kernelspec": {
   "display_name": "Python 3",
   "language": "python",
   "name": "python3"
  },
  "language_info": {
   "codemirror_mode": {
    "name": "ipython",
    "version": 3
   },
   "file_extension": ".py",
   "mimetype": "text/x-python",
   "name": "python",
   "nbconvert_exporter": "python",
   "pygments_lexer": "ipython3",
   "version": "3.8.2"
  }
 },
 "nbformat": 4,
 "nbformat_minor": 4
}
