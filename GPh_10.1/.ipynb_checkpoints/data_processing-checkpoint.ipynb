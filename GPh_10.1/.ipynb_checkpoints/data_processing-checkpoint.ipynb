{
 "cells": [
  {
   "cell_type": "code",
   "execution_count": 1,
   "metadata": {},
   "outputs": [],
   "source": [
    "import matplotlib.pyplot as plt\n",
    "import numpy as np\n",
    "import pandas as pd\n",
    "from scipy.optimize import curve_fit\n",
    "from scipy import stats"
   ]
  },
  {
   "cell_type": "code",
   "execution_count": 4,
   "metadata": {},
   "outputs": [],
   "source": [
    "\n",
    "\n",
    "\n",
    "Y_data = np.array(['data'])\n",
    "X_data = np.array(['data'])"
   ]
  },
  {
   "cell_type": "code",
   "execution_count": null,
   "metadata": {},
   "outputs": [],
   "source": [
    "def approx(x, a, b):  # определим функцию аппроксимации\n",
    "    return a * x + b"
   ]
  },
  {
   "cell_type": "code",
   "execution_count": 5,
   "metadata": {},
   "outputs": [],
   "source": []
  },
  {
   "cell_type": "code",
   "execution_count": null,
   "metadata": {},
   "outputs": [],
   "source": [
    "beta_opt1, beta_cov1 = curve_fit(approx, X_data, Y_data, sigma = error_of_Y_data)\n",
    "\n",
    "# коэффициенты\n",
    "a = beta_opt1[0]\n",
    "b = beta_opt1[1]\n",
    "\n",
    "print('a = ', a)\n",
    "print('b = ', b)\n",
    "\n",
    "#получим погрешности для коэффициентов\n",
    "sigma_a = np.sqrt(beta_cov1[0,0])\n",
    "sigma_b = np.sqrt(beta_cov1[1,1])\n",
    "\n",
    "\n",
    "print('sigma_a = ', sigma_a)\n",
    "print('sigma_b = ', sigma_b)\n",
    "\n",
    "# подсчитаем стандартную ошибку аппроксимации\n",
    "residuals1 = Y_data - approx(X_data,*beta_opt1)\n",
    "fres1 = sum(residuals1**2)\n",
    "S_e = np.sqrt(fres1/len(X_data))\n",
    "print('S_e = ', S_e)\n",
    "\n",
    "\n",
    "print('Relative S_r a = % ', 100* sigma_a/abs(a))\n",
    "print('Relative S_r b = % ', 100* sigma_b/abs(b))\n",
    "\n",
    "\n",
    "# график\n",
    "fig, ax = plt.subplots(figsize=(10, 6))\n",
    "\n",
    "ax.plot(X_data, approx(X_data, *beta_opt1), 'coral', lw = 2)\n",
    "\n",
    "\n",
    "ax.scatter(X_data, Y_data, marker = '*', color = 'red', s = 10) # это строит \"звездочками\" твои начальные данные\n",
    "\n",
    "lgnd = ax.legend([r'Aluminum fit $\\ln{N}(l)$ = %.3f $\\cdot$ $l$ + %.3f ' %(a,b), 'Data'], loc='upper right', shadow=True) \n",
    "\n",
    "\n",
    "# ax.set_title(r'График Ферми')\n",
    "ax.set_ylabel(r'label')\n",
    "ax.set_xlabel(r'label')\n",
    "\n",
    "\n",
    "ax.grid(which='major', color = 'k')\n",
    "ax.minorticks_on()\n",
    "ax.grid(which='minor', color = 'gray', linestyle = ':', linewidth = 0.5)\n",
    "ax.grid(which='major', linewidth = 0.5)\n",
    "\n",
    "\n",
    "plt.errorbar(X_data, Y_data, fmt = 'ro', marker = '*', markersize = '4', yerr = S_e, capsize = 4, elinewidth = 2, capthick = 2, ecolor = 'violet')\n",
    "\n",
    "\n",
    "# plt.xlim (-10, 850)\n",
    "# plt.ylim (-10, 245)\n",
    "plt.savefig('name_of_plot.png', dpi=400, quality=100)\n",
    "plt.show()"
   ]
  }
 ],
 "metadata": {
  "kernelspec": {
   "display_name": "Python 3",
   "language": "python",
   "name": "python3"
  },
  "language_info": {
   "codemirror_mode": {
    "name": "ipython",
    "version": 3
   },
   "file_extension": ".py",
   "mimetype": "text/x-python",
   "name": "python",
   "nbconvert_exporter": "python",
   "pygments_lexer": "ipython3",
   "version": "3.8.2"
  }
 },
 "nbformat": 4,
 "nbformat_minor": 4
}
